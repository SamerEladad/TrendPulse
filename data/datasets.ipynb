{
 "cells": [
  {
   "cell_type": "markdown",
   "metadata": {},
   "source": [
    "### Dataset Research (Samer)\n",
    "\n",
    "### 🛒 E-Commerce Customer Data for Behavior Analysis\n",
    "[Dataset URL](https://www.kaggle.com/datasets/shriyashjagtap/e-commerce-customer-for-behavior-analysis)\n",
    "\n",
    "#### Pros:\n",
    "- Customer behavior\n",
    "- Wide range of information\n",
    "- User purchase patterns\n",
    "\n",
    "### E-Commerce Sales Dataset\n",
    "[Dataset URL](https://www.kaggle.com/datasets/thedevastator/unlock-profits-with-e-commerce-sales-data)\n",
    "\n",
    "#### Pros:\n",
    "- Sales trends analysis\n",
    "- Product performance metrics\n",
    "- B2B insights\n",
    "\n",
    "### E-Commerce: Predicting Sales\n",
    "[Dataset URL](https://www.kaggle.com/code/slehkyi/e-commerce-predicting-sales)\n",
    "\n",
    "#### Pros:\n",
    "- Country data available\n",
    "- Notebook with sales prediction strategy available"
   ]
  },
  {
   "cell_type": "markdown",
   "metadata": {},
   "source": [
    "# Web scraping\n",
    "based on this dataset: https://www.kaggle.com/datasets/lokeshparab/amazon-products-dataset/data\n",
    "\n",
    "## columns that we are looking for: \n",
    "- product Name\n",
    "- product category\n",
    "- rating \n",
    "- number of rating\n",
    "- number of sales\n",
    "- price\n",
    "- region/ country\n",
    "- (returns)\n",
    "- month, year sold\n",
    "- (seasonal product?)"
   ]
  },
  {
   "cell_type": "code",
   "execution_count": null,
   "metadata": {},
   "outputs": [
    {
     "ename": "",
     "evalue": "",
     "output_type": "error",
     "traceback": [
      "\u001b[1;31mRunning cells with 'Python 3.9.6' requires the ipykernel package.\n",
      "\u001b[1;31mRun the following command to install 'ipykernel' into the Python environment. \n",
      "\u001b[1;31mCommand: '/usr/bin/python3 -m pip install ipykernel -U --user --force-reinstall'"
     ]
    }
   ],
   "source": []
  },
  {
   "cell_type": "code",
   "execution_count": null,
   "metadata": {},
   "outputs": [],
   "source": []
  }
 ],
 "metadata": {
  "kernelspec": {
   "display_name": "Python 3",
   "language": "python",
   "name": "python3"
  },
  "language_info": {
   "name": "python",
   "version": "3.9.6"
  },
  "orig_nbformat": 4
 },
 "nbformat": 4,
 "nbformat_minor": 2
}
