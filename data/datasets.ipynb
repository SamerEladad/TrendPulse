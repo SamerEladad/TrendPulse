{
 "cells": [
  {
   "cell_type": "markdown",
   "metadata": {},
   "source": [
    "### Dataset Research (Samer)\n",
    "\n",
    "### 🛒 E-Commerce Customer Data for Behavior Analysis\n",
    "[Dataset URL](https://www.kaggle.com/datasets/shriyashjagtap/e-commerce-customer-for-behavior-analysis)\n",
    "\n",
    "#### Pros:\n",
    "- Customer behavior\n",
    "- Wide range of information\n",
    "- User purchase patterns\n",
    "\n",
    "### E-Commerce Sales Dataset\n",
    "[Dataset URL](https://www.kaggle.com/datasets/thedevastator/unlock-profits-with-e-commerce-sales-data)\n",
    "\n",
    "#### Pros:\n",
    "- Sales trends analysis\n",
    "- Product performance metrics\n",
    "- B2B insights\n",
    "\n",
    "### E-Commerce: Predicting Sales\n",
    "[Dataset URL](https://www.kaggle.com/code/slehkyi/e-commerce-predicting-sales)\n",
    "\n",
    "#### Pros:\n",
    "- Country data available\n",
    "- Notebook with sales prediction strategy available"
   ]
  },
  {
   "cell_type": "code",
   "execution_count": null,
   "metadata": {},
   "outputs": [],
   "source": []
  }
 ],
 "metadata": {
  "language_info": {
   "name": "python"
  },
  "orig_nbformat": 4
 },
 "nbformat": 4,
 "nbformat_minor": 2
}
