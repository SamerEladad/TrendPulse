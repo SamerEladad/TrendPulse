{
 "cells": [
  {
   "cell_type": "code",
   "execution_count": null,
   "metadata": {},
   "outputs": [],
   "source": [
    "https://www.kaggle.com/datasets/fahmidachowdhury/e-commerce-sales-analysis\n",
    "# csv file with different columns (product_id, product_name, category, price, \n",
    "# review_score: Average customer review score (1 to 5), review_count,sales_month_1 to sales_month_12)\n",
    "\n",
    "https://www.kaggle.com/code/thiagopanini/e-commerce-sentiment-analysis-eda-viz-nlp\n",
    "#sentiment analysis about e-commerce (only geographical data and statistics about sellings)\n",
    "--> this seems to be a good start for our LLM\n",
    "\n",
    "\n",
    "https://www.kaggle.com/code/michaelminhpham/predict-unit-sold-mens-women-shoes-on-tiki\n",
    "#dataset is in vietnamese \n",
    "\n",
    "https://www.kaggle.com/code/kennethlopez/analyzing-trinity-road-s-financial-performance\n",
    "#\n",
    "\n"
   ]
  }
 ],
 "metadata": {
  "language_info": {
   "name": "python"
  }
 },
 "nbformat": 4,
 "nbformat_minor": 2
}
