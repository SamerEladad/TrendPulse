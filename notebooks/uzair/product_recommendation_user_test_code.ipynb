{
 "cells": [
  {
   "cell_type": "code",
   "execution_count": 10,
   "metadata": {},
   "outputs": [],
   "source": [
    "import pandas as pd\n",
    "import numpy as np\n",
    "from sklearn.metrics import roc_auc_score, auc, accuracy_score, roc_curve\n",
    "from sklearn.model_selection import train_test_split\n",
    "from sklearn.preprocessing import LabelEncoder, StandardScaler\n",
    "import time\n",
    "import torch\n",
    "import torch.nn as nn\n",
    "import torch.optim as optim\n",
    "from torch.utils.data import Dataset, DataLoader, TensorDataset\n",
    "\n",
    "from torch.optim.lr_scheduler import StepLR, MultiplicativeLR, ExponentialLR\n",
    "import torch.nn.functional as F\n",
    "import os\n",
    "import pickle\n"
   ]
  },
  {
   "cell_type": "markdown",
   "metadata": {},
   "source": [
    "### Model and Dataset class Definition"
   ]
  },
  {
   "cell_type": "code",
   "execution_count": 11,
   "metadata": {},
   "outputs": [],
   "source": [
    "class RecommendationModel(nn.Module):\n",
    "    # def __init__(self, num_products, num_categories, num_subcategories, embedding_dim=10):\n",
    "    def __init__(self, num_categories, num_subcategories, embedding_dim=10):\n",
    "\n",
    "        super(RecommendationModel, self).__init__()\n",
    "        \n",
    "        # Embedding layers for categorical features\n",
    "        # self.product_embedding = nn.Embedding(num_products, embedding_dim)\n",
    "        self.category_embedding = nn.Embedding(num_categories, embedding_dim // 2)\n",
    "        self.subcategory_embedding = nn.Embedding(num_subcategories, embedding_dim // 2)\n",
    "        \n",
    "        # Define fully connected layers\n",
    "        # self.fc1 = nn.Linear(embedding_dim + (embedding_dim // 2) * 2 + 4, 64)\n",
    "        self.fc1 = nn.Linear((embedding_dim // 2) * 2 + 4, 64)\n",
    "        self.fc2 = nn.Linear(64, 32)\n",
    "        self.fc3 = nn.Linear(32, 3)  # Output layer with 3 units for 3 classes\n",
    "\n",
    "    # def forward(self, product_id, category_id, subcategory_id, ratings, no_of_ratings, actual_price, discount_price):\n",
    "    def forward(self, category_id, subcategory_id, ratings, no_of_ratings, actual_price, discount_price):\n",
    "\n",
    "        # Pass inputs through embeddings\n",
    "        # product_embedded = self.product_embedding(product_id)\n",
    "        category_embedded = self.category_embedding(category_id)\n",
    "        subcategory_embedded = self.subcategory_embedding(subcategory_id)\n",
    "        \n",
    "        # Flatten the embedding outputs\n",
    "        # product_embedded = product_embedded.view(-1, self.product_embedding.embedding_dim)\n",
    "        category_embedded = category_embedded.view(-1, self.category_embedding.embedding_dim)\n",
    "        subcategory_embedded = subcategory_embedded.view(-1, self.subcategory_embedding.embedding_dim)\n",
    "        \n",
    "        # Concatenate all features (embeddings + numerical features)\n",
    "        # concatenated = torch.cat((product_embedded, category_embedded, subcategory_embedded, ratings, no_of_ratings, actual_price, discount_price), dim=1)\n",
    "   \n",
    "        concatenated = torch.cat((category_embedded, subcategory_embedded, ratings, no_of_ratings, actual_price, discount_price), dim=1)\n",
    "        \n",
    "        # Pass through fully connected layers\n",
    "        x = torch.relu(self.fc1(concatenated))\n",
    "        x = torch.relu(self.fc2(x))\n",
    "        output = self.fc3(x)  # Output 3 units (for 3 classes) without activation\n",
    "        \n",
    "        return output"
   ]
  },
  {
   "cell_type": "code",
   "execution_count": 12,
   "metadata": {},
   "outputs": [],
   "source": [
    "# Initialize metrics trackers\n",
    "def compute_accuracy(predictions, labels):\n",
    "    _, predicted = torch.max(predictions, 1)\n",
    "    return accuracy_score(labels.cpu().numpy(), predicted.cpu().numpy())\n",
    "\n",
    "def compute_auc(predictions, labels, num_classes):\n",
    "    predictions_prob = F.softmax(predictions, dim=1).cpu().numpy()\n",
    "    labels = labels.cpu().numpy()\n",
    "    if num_classes == 2:\n",
    "        return roc_auc_score(labels, predictions_prob[:, 1])  # For binary classification\n",
    "    else:\n",
    "        return roc_auc_score(labels, predictions_prob, multi_class='ovr')  # For multi-class classification\n",
    "    \n",
    "def logging(log_path, log_text):\n",
    "    with open(log_path, 'a') as file:\n",
    "        file.write(log_text + '\\n')\n"
   ]
  },
  {
   "cell_type": "code",
   "execution_count": 21,
   "metadata": {},
   "outputs": [],
   "source": [
    "main_dir = r'C:\\Users\\Data_Science\\Desktop\\trend_pulse_data'\n",
    "experiment = 'Exp_2'\n",
    "exp_dir = os.path.join(main_dir, experiment)\n",
    "weights_dir = os.path.join(exp_dir, 'model_weights')\n",
    "log_path = os.path.join(exp_dir, 'Training_log.txt')\n",
    "os.makedirs(weights_dir, exist_ok=True)"
   ]
  },
  {
   "cell_type": "code",
   "execution_count": 26,
   "metadata": {},
   "outputs": [],
   "source": [
    "df = pd.read_excel(os.path.join(exp_dir, 'Train_Data_3_classes_encoded.xlsx'))"
   ]
  },
  {
   "cell_type": "markdown",
   "metadata": {},
   "source": [
    "### Creating Data Loaders"
   ]
  },
  {
   "cell_type": "markdown",
   "metadata": {},
   "source": [
    "### Model initialization and User Testing"
   ]
  },
  {
   "cell_type": "code",
   "execution_count": 27,
   "metadata": {},
   "outputs": [],
   "source": [
    "# Dictionary mappings for text to encoded IDs (assuming these are already available)\n",
    "\n",
    "# Load the main category encoding dictionary\n",
    "with open(os.path.join(exp_dir,'main_category_to_index.pkl'), 'rb') as f:\n",
    "    main_category_to_index = pickle.load(f)\n",
    "\n",
    "# Load the subcategory encoding dictionary\n",
    "with open(os.path.join(exp_dir,'sub_category_to_index.pkl'), 'rb') as f:\n",
    "    sub_category_to_index = pickle.load(f)\n",
    "\n",
    "# Function to encode user inputs\n",
    "def process_user_input(main_category, sub_category, rating, no_of_ratings, actual_price, discount_price):\n",
    "    # Encode the main category and subcategory from text to ID\n",
    "    category_id = main_category_to_index.get(main_category, -1)  # Default to -1 if not found\n",
    "    subcategory_id = sub_category_to_index.get(sub_category, -1)  # Default to -1 if not found\n",
    "    \n",
    "    # Convert the rest of the inputs to the correct tensor types\n",
    "    test_product_id = torch.tensor([0], dtype=torch.long)  # Placeholder product ID\n",
    "    test_category_id = torch.tensor([category_id], dtype=torch.long)\n",
    "    test_subcategory_id = torch.tensor([subcategory_id], dtype=torch.long)\n",
    "    test_ratings = torch.tensor([[rating]], dtype=torch.float32)\n",
    "    test_no_of_ratings = torch.tensor([[no_of_ratings]], dtype=torch.float32)\n",
    "    test_actual_price = torch.tensor([[actual_price]], dtype=torch.float32)\n",
    "    test_discount_price = torch.tensor([[discount_price]], dtype=torch.float32)\n",
    "    \n",
    "    return test_product_id, test_category_id, test_subcategory_id, test_ratings, test_no_of_ratings, test_actual_price, test_discount_price\n",
    "\n",
    "# Function to apply the post-processing strategy\n",
    "def recommend_top_products(predicted_class, category_id, subcategory_id, df, num_recommendations=5):\n",
    "    # Filter products by predicted class and matching category/subcategory\n",
    "    filtered_df = df[(df['int_rating'] == predicted_class) &\n",
    "                     (df['encoded_main_category'] == category_id) &\n",
    "                     (df['encoded_sub_category'] == subcategory_id)]\n",
    "    \n",
    "    # Rank the filtered products based on criteria (e.g., ratings, no_of_ratings, price, discount_price)\n",
    "    filtered_df['rank_score'] = (\n",
    "        0.4 * filtered_df['ratings'] +\n",
    "        0.3 * filtered_df['no_of_ratings'] +\n",
    "        0.2 * filtered_df['discount_price'] +\n",
    "        0.1 * filtered_df['actual_price']\n",
    "    )\n",
    "    \n",
    "    # Sort by rank_score and select top products\n",
    "    top_products = filtered_df.sort_values(by='rank_score', ascending=False).head(num_recommendations)\n",
    "    \n",
    "    # Return the recommended product names\n",
    "    return top_products['product'].values\n",
    "\n",
    "\n"
   ]
  },
  {
   "cell_type": "code",
   "execution_count": 28,
   "metadata": {},
   "outputs": [],
   "source": [
    "# Initialize the model\n",
    "# Initialize the model\n",
    "# num_products = 28588    # len(df['encoded_product'].unique())\n",
    "num_categories = 10     # len(df['encoded_main_category'].unique())\n",
    "num_subcategories = 12  #  len(df['encoded_sub_category'].unique())\n",
    "\n",
    "\n",
    "# Check if CUDA is available\n",
    "device = torch.device('cuda' if torch.cuda.is_available() else 'cpu')\n",
    "\n",
    "# Load the model (assuming the model is saved as 'best_model.pth')\n",
    "model = RecommendationModel(num_categories, num_subcategories)\n",
    "model.load_state_dict(torch.load(os.path.join(weights_dir, 'best_model.pth')))\n",
    "model = model.to(device)  # Move model to the appropriate device\n",
    "\n"
   ]
  },
  {
   "cell_type": "code",
   "execution_count": 29,
   "metadata": {},
   "outputs": [
    {
     "name": "stdout",
     "output_type": "stream",
     "text": [
      "\n",
      "Predicted class (int_rating): 2\n",
      "\n",
      "Recommended Products:\n",
      "1. M MOOHAM Cross Necklace for Men, Silver Black Gold Stainless Steel Plain Cross Pendant Necklace for Men Box Chain 16-30 Inch\n",
      "2. Sukkhi Rakhi Cluster Rakhi Combo with Roli Chawal and Raksha Bandhan For Men\n",
      "3. Miabella Solid 925 Sterling Silver Italian 3.5mm Diamond Cut Cuban Link Curb Chain Necklace for Women Men, 16\"-18\"-20\"-2...\n",
      "4. ThunderFit Silicone Rings for Men - 7 Rings / 4 Rings / 1 Ring - Breathable Patterned Design Wedding Bands 8mm Wide - 2.5m...\n",
      "5. King Will Basic 10mm Tungsten Carbide Ring for Men Matte Polished Engagement Band Comfort Fit\n"
     ]
    },
    {
     "name": "stderr",
     "output_type": "stream",
     "text": [
      "C:\\Users\\Data_Science\\AppData\\Local\\Temp\\ipykernel_10736\\1541865632.py:36: SettingWithCopyWarning: \n",
      "A value is trying to be set on a copy of a slice from a DataFrame.\n",
      "Try using .loc[row_indexer,col_indexer] = value instead\n",
      "\n",
      "See the caveats in the documentation: https://pandas.pydata.org/pandas-docs/stable/user_guide/indexing.html#returning-a-view-versus-a-copy\n",
      "  filtered_df['rank_score'] = (\n"
     ]
    }
   ],
   "source": [
    "# Get user input for the features except product name\n",
    "main_category = input(\"Enter the main category (e.g., 'Electronics'): \")\n",
    "sub_category = input(\"Enter the subcategory (e.g., 'Mobile Phones'): \")\n",
    "rating = float(input(\"Enter the rating: \"))\n",
    "no_of_ratings = float(input(\"Enter the number of ratings: \"))\n",
    "actual_price = float(input(\"Enter the actual price (in USD): \"))\n",
    "discount_price = float(input(\"Enter the discount price (in USD): \"))\n",
    "\n",
    "# Process user inputs\n",
    "test_product_id, test_category_id, test_subcategory_id, test_ratings, test_no_of_ratings, test_actual_price, test_discount_price = process_user_input(\n",
    "    main_category, sub_category, rating, no_of_ratings, actual_price, discount_price)\n",
    "\n",
    "# Pass the inputs through the model\n",
    "model.eval()\n",
    "with torch.no_grad():\n",
    "    # outputs = model(test_product_id, test_category_id, test_subcategory_id, test_ratings, test_no_of_ratings, test_actual_price, test_discount_price)\n",
    "    outputs = model(test_category_id, test_subcategory_id, test_ratings, test_no_of_ratings, test_actual_price, test_discount_price)\n",
    "    predicted_probs = F.softmax(outputs, dim=1)\n",
    "    predicted_class = predicted_probs.argmax(dim=1).item()\n",
    "\n",
    "print(f\"\\nPredicted class (int_rating): {predicted_class}\")\n",
    "\n",
    "# Apply post-processing to recommend products\n",
    "recommended_products = recommend_top_products(predicted_class, test_category_id.item(), test_subcategory_id.item(), df)\n",
    "\n",
    "print(\"\\nRecommended Products:\")\n",
    "for i, product in enumerate(recommended_products, 1):\n",
    "    print(f\"{i}. {product}\")"
   ]
  },
  {
   "cell_type": "markdown",
   "metadata": {},
   "source": [
    "### match original product in suggestions"
   ]
  },
  {
   "cell_type": "code",
   "execution_count": null,
   "metadata": {},
   "outputs": [],
   "source": [
    "def evaluate_recommendation(product_name, predicted_class, category_id, subcategory_id, num_recommendations=5):\n",
    "    # Filter products by predicted class and matching category/subcategory\n",
    "    filtered_df = df[(df['int_rating'] == predicted_class) &\n",
    "                     (df['encoded_main_category'] == category_id) &\n",
    "                     (df['encoded_sub_category'] == subcategory_id)]\n",
    "    \n",
    "    # Rank the filtered products based on criteria (e.g., ratings, no_of_ratings, price, discount_price)\n",
    "    filtered_df['rank_score'] = (\n",
    "        0.4 * filtered_df['ratings'] +\n",
    "        0.3 * filtered_df['no_of_ratings'] +\n",
    "        0.2 * filtered_df['discount_price'] +\n",
    "        0.1 * filtered_df['actual_price']\n",
    "    )\n",
    "    \n",
    "    # Sort by rank_score and select top products\n",
    "    top_products = filtered_df.sort_values(by='rank_score', ascending=False).head(num_recommendations)\n",
    "    \n",
    "    # Check if the provided product name is in the recommended list\n",
    "    if product_name in top_products['product'].values:\n",
    "        print(\"Recommendation accurate\")\n",
    "    else:\n",
    "        print(\"Recommendation varied\")\n",
    "\n",
    "# Function to test the model with user input and evaluate the recommendation\n",
    "def test_model_with_product_name():\n",
    "    # Get user input for the features including product name\n",
    "    product_name = input(\"Enter the product name: \")\n",
    "    main_category = input(\"Enter the main category (e.g., 'Electronics'): \")\n",
    "    sub_category = input(\"Enter the subcategory (e.g., 'Mobile Phones'): \")\n",
    "    rating = float(input(\"Enter the rating: \"))\n",
    "    no_of_ratings = float(input(\"Enter the number of ratings: \"))\n",
    "    actual_price = float(input(\"Enter the actual price (in USD): \"))\n",
    "    discount_price = float(input(\"Enter the discount price (in USD): \"))\n",
    "    \n",
    "    # Process user inputs\n",
    "    test_product_id, test_category_id, test_subcategory_id, test_ratings, test_no_of_ratings, test_actual_price, test_discount_price = process_user_input(\n",
    "        main_category, sub_category, rating, no_of_ratings, actual_price, discount_price)\n",
    "    \n",
    "    # Pass the inputs through the model\n",
    "    model.eval()\n",
    "    with torch.no_grad():\n",
    "        outputs = model(test_product_id, test_category_id, test_subcategory_id, test_ratings, test_no_of_ratings, test_actual_price, test_discount_price)\n",
    "        predicted_probs = F.softmax(outputs, dim=1)\n",
    "        predicted_class = predicted_probs.argmax(dim=1).item()\n",
    "    \n",
    "    print(f\"\\nPredicted class (int_rating): {predicted_class}\")\n",
    "    \n",
    "    # Apply post-processing to evaluate if the provided product name is in the recommended list\n",
    "    evaluate_recommendation(product_name, predicted_class, test_category_id.item(), test_subcategory_id.item())\n",
    "\n",
    "# Example call to test the model with product name\n",
    "test_model_with_product_name()\n"
   ]
  }
 ],
 "metadata": {
  "kernelspec": {
   "display_name": "regular_env",
   "language": "python",
   "name": "python3"
  },
  "language_info": {
   "codemirror_mode": {
    "name": "ipython",
    "version": 3
   },
   "file_extension": ".py",
   "mimetype": "text/x-python",
   "name": "python",
   "nbconvert_exporter": "python",
   "pygments_lexer": "ipython3",
   "version": "3.11.9"
  }
 },
 "nbformat": 4,
 "nbformat_minor": 2
}
